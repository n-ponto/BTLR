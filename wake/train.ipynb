{
 "cells": [
  {
   "cell_type": "code",
   "execution_count": 10,
   "metadata": {},
   "outputs": [
    {
     "name": "stdout",
     "output_type": "stream",
     "text": [
      "Percent of train data positive: 25.14%\n",
      "train_x size:  1716.052963256836 MB\n",
      "Percent of val data positive: 0.05%\n",
      "val_x size:  53.98780822753906 MB\n"
     ]
    }
   ],
   "source": [
    "\"\"\"\n",
    "LOAD THE DATA\n",
    "\"\"\"\n",
    "import os\n",
    "import numpy as np\n",
    "from parameters import FileParams as fp, DEFAULT_AUDIO_PARAMS as ap\n",
    "\n",
    "def load_data(dataset: str):\n",
    "    x = np.load(os.path.join(fp.data_dir, f'{dataset}_x.npy'))\n",
    "    y = np.load(os.path.join(fp.data_dir, f'{dataset}_y.npy'))\n",
    "    return x, y\n",
    "\n",
    "train_x, train_y = load_data('train')\n",
    "val_x, val_y = load_data('val')\n",
    "\n",
    "print(f'Percent of train data positive: {np.mean(train_y) * 100:.2f}%')\n",
    "print('train_x size: ', train_x.nbytes / 1024 / 1024, 'MB')\n",
    "print(f'Percent of val data positive: {np.mean(val_y) * 100:.2f}%')\n",
    "print('val_x size: ', val_x.nbytes / 1024 / 1024, 'MB')"
   ]
  },
  {
   "cell_type": "code",
   "execution_count": 54,
   "metadata": {},
   "outputs": [],
   "source": [
    "\"\"\" \n",
    "CREATE THE MODEL\n",
    "\n",
    "Model architecture copied from\n",
    "https://www.tensorflow.org/tutorials/audio/simple_audio\n",
    "\"\"\"\n",
    "\n",
    "import tensorflow as tf\n",
    "from tensorflow.keras import layers\n",
    "from tensorflow.keras import models\n",
    "from keras.losses import binary_crossentropy\n",
    "\n",
    "INPUT_SHAPE = (ap.n_features, ap.n_mfcc)\n",
    "\n",
    "# Instantiate the `tf.keras.layers.Normalization` layer.\n",
    "norm_layer = layers.Normalization()\n",
    "model = models.Sequential([\n",
    "    layers.Input(shape=INPUT_SHAPE),\n",
    "    norm_layer,\n",
    "    layers.Conv1D(32, 3, activation='relu'),\n",
    "    layers.Conv1D(64, 3, activation='relu'),\n",
    "    layers.MaxPooling1D(),\n",
    "    layers.Dropout(0.25),\n",
    "    layers.Flatten(),\n",
    "    layers.Dense(128, activation='relu'),\n",
    "    layers.Dropout(0.5),\n",
    "    layers.Dense(1, activation='sigmoid'),\n",
    "], name='cnn_model')\n",
    "\n",
    "model.compile(\n",
    "    optimizer=tf.keras.optimizers.Adam(),\n",
    "    loss=binary_crossentropy,\n",
    "    metrics=['accuracy'],\n",
    ")"
   ]
  },
  {
   "cell_type": "code",
   "execution_count": 61,
   "metadata": {},
   "outputs": [
    {
     "name": "stdout",
     "output_type": "stream",
     "text": [
      "Model: \"cnn_model\"\n",
      "_________________________________________________________________\n",
      " Layer (type)                Output Shape              Param #   \n",
      "=================================================================\n",
      " normalization_4 (Normalizat  (None, 29, 13)           27        \n",
      " ion)                                                            \n",
      "                                                                 \n",
      " conv1d_6 (Conv1D)           (None, 27, 32)            1280      \n",
      "                                                                 \n",
      " conv1d_7 (Conv1D)           (None, 25, 64)            6208      \n",
      "                                                                 \n",
      " max_pooling1d_3 (MaxPooling  (None, 12, 64)           0         \n",
      " 1D)                                                             \n",
      "                                                                 \n",
      " dropout_6 (Dropout)         (None, 12, 64)            0         \n",
      "                                                                 \n",
      " flatten_3 (Flatten)         (None, 768)               0         \n",
      "                                                                 \n",
      " dense_6 (Dense)             (None, 128)               98432     \n",
      "                                                                 \n",
      " dropout_7 (Dropout)         (None, 128)               0         \n",
      "                                                                 \n",
      " dense_7 (Dense)             (None, 1)                 129       \n",
      "                                                                 \n",
      "=================================================================\n",
      "Total params: 106,076\n",
      "Trainable params: 106,049\n",
      "Non-trainable params: 27\n",
      "_________________________________________________________________\n"
     ]
    }
   ],
   "source": [
    "\"\"\"\n",
    "SET UP FOR TRAINING\n",
    "\"\"\"\n",
    "\n",
    "from keras.callbacks import TensorBoard, ModelCheckpoint\n",
    "\n",
    "BATCH_SIZE = 128\n",
    "EPOCHS = 2\n",
    "MODEL_NAME = 'simple_cnn'\n",
    "\n",
    "checkpoint_dir = f'./checkpoints/{MODEL_NAME}'\n",
    "model_checkpoint_callback = ModelCheckpoint(\n",
    "    filepath=checkpoint_dir,\n",
    "    save_weights_only=False,  # Save the whole model\n",
    "    monitor='val_accuracy',\n",
    "    mode='auto',\n",
    "    save_best_only=True)\n",
    "\n",
    "log_dir = os.path.join(fp.log_dir, MODEL_NAME)\n",
    "callbacks = [TensorBoard(log_dir), model_checkpoint_callback]\n",
    "# Print out info about the model\n",
    "model.summary()"
   ]
  },
  {
   "cell_type": "code",
   "execution_count": 62,
   "metadata": {},
   "outputs": [
    {
     "name": "stdout",
     "output_type": "stream",
     "text": [
      "Epoch 1/2\n",
      "4656/4662 [============================>.] - ETA: 0s - loss: 0.0097 - accuracy: 0.9965"
     ]
    },
    {
     "name": "stderr",
     "output_type": "stream",
     "text": [
      "WARNING:absl:Found untraced functions such as _jit_compiled_convolution_op, _jit_compiled_convolution_op while saving (showing 2 of 2). These functions will not be directly callable after loading.\n"
     ]
    },
    {
     "name": "stdout",
     "output_type": "stream",
     "text": [
      "INFO:tensorflow:Assets written to: ./checkpoints\\simple_cnn\\assets\n"
     ]
    },
    {
     "name": "stderr",
     "output_type": "stream",
     "text": [
      "INFO:tensorflow:Assets written to: ./checkpoints\\simple_cnn\\assets\n"
     ]
    },
    {
     "name": "stdout",
     "output_type": "stream",
     "text": [
      "4662/4662 [==============================] - 13s 3ms/step - loss: 0.0097 - accuracy: 0.9966 - val_loss: 8.7404e-04 - val_accuracy: 0.9997\n",
      "Epoch 2/2\n",
      "4656/4662 [============================>.] - ETA: 0s - loss: 0.0017 - accuracy: 0.9995"
     ]
    },
    {
     "name": "stderr",
     "output_type": "stream",
     "text": [
      "WARNING:absl:Found untraced functions such as _jit_compiled_convolution_op, _jit_compiled_convolution_op while saving (showing 2 of 2). These functions will not be directly callable after loading.\n"
     ]
    },
    {
     "name": "stdout",
     "output_type": "stream",
     "text": [
      "INFO:tensorflow:Assets written to: ./checkpoints\\simple_cnn\\assets\n"
     ]
    },
    {
     "name": "stderr",
     "output_type": "stream",
     "text": [
      "INFO:tensorflow:Assets written to: ./checkpoints\\simple_cnn\\assets\n"
     ]
    },
    {
     "name": "stdout",
     "output_type": "stream",
     "text": [
      "4662/4662 [==============================] - 14s 3ms/step - loss: 0.0017 - accuracy: 0.9995 - val_loss: 4.7880e-04 - val_accuracy: 0.9998\n"
     ]
    },
    {
     "data": {
      "text/plain": [
       "<keras.callbacks.History at 0x1271e72c760>"
      ]
     },
     "execution_count": 62,
     "metadata": {},
     "output_type": "execute_result"
    }
   ],
   "source": [
    "\"\"\"\n",
    "TRAIN THE MODEL\n",
    "\"\"\"\n",
    "model.fit(\n",
    "    train_x,\n",
    "    train_y,\n",
    "    epochs=EPOCHS,\n",
    "    batch_size=BATCH_SIZE,\n",
    "    validation_data=(val_x, val_y),\n",
    "    callbacks=callbacks\n",
    ")"
   ]
  },
  {
   "cell_type": "code",
   "execution_count": 65,
   "metadata": {},
   "outputs": [
    {
     "name": "stdout",
     "output_type": "stream",
     "text": [
      "587/587 [==============================] - 1s 2ms/step - loss: 4.7880e-04 - accuracy: 0.9998\n",
      "Loss: 0.00047879500198177993\n",
      "Accuracy: 99.98402%\n"
     ]
    }
   ],
   "source": [
    "\"\"\"\n",
    "Evaluate on the validation set\n",
    "\"\"\"\n",
    "\n",
    "loss, accuracy = model.evaluate(val_x, val_y)\n",
    "\n",
    "print(f'Loss: {loss}')\n",
    "print(f'Accuracy: {accuracy*100:.5f}%')"
   ]
  },
  {
   "cell_type": "code",
   "execution_count": 68,
   "metadata": {},
   "outputs": [
    {
     "name": "stdout",
     "output_type": "stream",
     "text": [
      "1/1 [==============================] - 0s 12ms/step\n",
      "Predicted: 1.0000, Actual: 1.0, Correct!\n",
      "Predicted: 1.0000, Actual: 1.0, Correct!\n",
      "Predicted: 0.0000, Actual: 0.0, Correct!\n",
      "Predicted: 1.0000, Actual: 1.0, Correct!\n",
      "Predicted: 0.0000, Actual: 0.0, Correct!\n",
      "Predicted: 1.0000, Actual: 1.0, Correct!\n",
      "Predicted: 1.0000, Actual: 1.0, Correct!\n",
      "Predicted: 1.0000, Actual: 1.0, Correct!\n",
      "Predicted: 0.0000, Actual: 0.0, Correct!\n",
      "Predicted: 0.0000, Actual: 0.0, Correct!\n"
     ]
    }
   ],
   "source": [
    "\"\"\"\n",
    "USE THE MODEL TO MAKE PREDICTIONS\n",
    "\"\"\"\n",
    "\n",
    "predictions = model.predict(train_x[:10]).flatten()\n",
    "\n",
    "for i in range(len(predictions)):\n",
    "    print(f'Predicted: {predictions[i]:<.4f}, Actual: {train_y[i]}, {\"Correct!\" if round(predictions[i]) == train_y[i] else \"Incorrect\"}')"
   ]
  },
  {
   "cell_type": "code",
   "execution_count": 67,
   "metadata": {},
   "outputs": [
    {
     "name": "stdout",
     "output_type": "stream",
     "text": [
      "Model: \"smaller_cnn\"\n",
      "_________________________________________________________________\n",
      " Layer (type)                Output Shape              Param #   \n",
      "=================================================================\n",
      " normalization_8 (Normalizat  (None, 29, 13)           27        \n",
      " ion)                                                            \n",
      "                                                                 \n",
      " conv1d_14 (Conv1D)          (None, 27, 16)            640       \n",
      "                                                                 \n",
      " conv1d_15 (Conv1D)          (None, 25, 32)            1568      \n",
      "                                                                 \n",
      " max_pooling1d_7 (MaxPooling  (None, 12, 32)           0         \n",
      " 1D)                                                             \n",
      "                                                                 \n",
      " dropout_14 (Dropout)        (None, 12, 32)            0         \n",
      "                                                                 \n",
      " flatten_7 (Flatten)         (None, 384)               0         \n",
      "                                                                 \n",
      " dense_14 (Dense)            (None, 128)               49280     \n",
      "                                                                 \n",
      " dropout_15 (Dropout)        (None, 128)               0         \n",
      "                                                                 \n",
      " dense_15 (Dense)            (None, 1)                 129       \n",
      "                                                                 \n",
      "=================================================================\n",
      "Total params: 51,644\n",
      "Trainable params: 51,617\n",
      "Non-trainable params: 27\n",
      "_________________________________________________________________\n"
     ]
    }
   ],
   "source": [
    "\"\"\"\n",
    "TEST SMALLER MODEL\n",
    "\"\"\"\n",
    "\n",
    "SMALLER_NAME = 'smaller_cnn'\n",
    "\n",
    "# Same except half as many filters in the Conv1D layers\n",
    "norm_layer = layers.Normalization()\n",
    "smaller_model = models.Sequential([\n",
    "    layers.Input(shape=INPUT_SHAPE),\n",
    "    norm_layer,\n",
    "    layers.Conv1D(16, 3, activation='relu'),\n",
    "    layers.Conv1D(32, 3, activation='relu'),\n",
    "    layers.MaxPooling1D(),\n",
    "    layers.Dropout(0.25),\n",
    "    layers.Flatten(),\n",
    "    layers.Dense(128, activation='relu'),\n",
    "    layers.Dropout(0.5),\n",
    "    layers.Dense(1, activation='sigmoid'),\n",
    "], name='smaller_cnn')\n",
    "\n",
    "smaller_model.compile(\n",
    "    optimizer=tf.keras.optimizers.Adam(),\n",
    "    loss=tf.keras.losses.binary_crossentropy,\n",
    "    metrics=['accuracy'],\n",
    ")\n",
    "\n",
    "smaller_checkpoint_dir = f'./checkpoints/smaller_{SMALLER_NAME}'\n",
    "smaller_model_checkpoint_callback = ModelCheckpoint(\n",
    "    filepath=smaller_checkpoint_dir,\n",
    "    save_weights_only=False,  # Save the whole model\n",
    "    monitor='val_accuracy',\n",
    "    mode='auto',\n",
    "    save_best_only=True)\n",
    "smaller_callbacks = [\n",
    "    TensorBoard(os.path.join(fp.log_dir, SMALLER_NAME)),\n",
    "    model_checkpoint_callback\n",
    "]\n",
    "smaller_model.summary()"
   ]
  },
  {
   "cell_type": "code",
   "execution_count": 60,
   "metadata": {},
   "outputs": [
    {
     "name": "stdout",
     "output_type": "stream",
     "text": [
      "Epoch 1/2\n",
      "4662/4662 [==============================] - 9s 2ms/step - loss: 0.0180 - accuracy: 0.9934 - val_loss: 5.8405e-04 - val_accuracy: 0.9998\n",
      "Epoch 2/2\n",
      "4662/4662 [==============================] - 8s 2ms/step - loss: 0.0027 - accuracy: 0.9991 - val_loss: 0.0016 - val_accuracy: 0.9997\n"
     ]
    },
    {
     "data": {
      "text/plain": [
       "<keras.callbacks.History at 0x12754dcfc40>"
      ]
     },
     "execution_count": 60,
     "metadata": {},
     "output_type": "execute_result"
    }
   ],
   "source": [
    "\"\"\"\n",
    "TRAIN THE SMALLER MODEL\n",
    "\"\"\"\n",
    "smaller_model.fit(\n",
    "    train_x,\n",
    "    train_y,\n",
    "    epochs=EPOCHS,\n",
    "    batch_size=BATCH_SIZE,\n",
    "    validation_data=(val_x, val_y),\n",
    "    callbacks=smaller_callbacks\n",
    ")"
   ]
  }
 ],
 "metadata": {
  "kernelspec": {
   "display_name": "cse517",
   "language": "python",
   "name": "python3"
  },
  "language_info": {
   "codemirror_mode": {
    "name": "ipython",
    "version": 3
   },
   "file_extension": ".py",
   "mimetype": "text/x-python",
   "name": "python",
   "nbconvert_exporter": "python",
   "pygments_lexer": "ipython3",
   "version": "3.9.16"
  }
 },
 "nbformat": 4,
 "nbformat_minor": 2
}
