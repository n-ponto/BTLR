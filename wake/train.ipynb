{
 "cells": [
  {
   "cell_type": "code",
   "execution_count": 27,
   "metadata": {},
   "outputs": [],
   "source": [
    "from parameters import FileParams as fp\n",
    "import os\n",
    "import numpy as np\n",
    "import neuralmodels"
   ]
  },
  {
   "cell_type": "code",
   "execution_count": 28,
   "metadata": {},
   "outputs": [],
   "source": [
    "def get_param_data(params: str):\n",
    "    print('Loading data for params: ', params)\n",
    "    train_x = np.load(os.path.join(fp.data_dir, f'np_data_{params}_params', 'train_x.npy'))\n",
    "    train_y = np.load(os.path.join(fp.data_dir, f'np_data_{params}_params', 'train_y.npy'))\n",
    "    print(f'Percent of data positive: {np.mean(train_y) * 100:.2f}%')\n",
    "    print('train_x size: ', train_x.nbytes / 1024 / 1024, 'MB')\n",
    "    print(len(train_x))\n",
    "    print()\n",
    "\n",
    "    val_x = np.load(os.path.join(fp.data_dir, f'np_data_{params}_params', 'val_x.npy'))\n",
    "    val_y = np.load(os.path.join(fp.data_dir, f'np_data_{params}_params', 'val_y.npy'))\n",
    "    print(f'Percent of data positive: {np.mean(val_y) * 100:.2f}%')\n",
    "    print('val_x size: ', val_x.nbytes / 1024 / 1024, 'MB')\n",
    "    return train_x, train_y, val_x, val_y"
   ]
  },
  {
   "cell_type": "code",
   "execution_count": 54,
   "metadata": {},
   "outputs": [],
   "source": [
    "from keras.callbacks import TensorBoard, ModelCheckpoint\n",
    "\n",
    "\n",
    "BATCH_SIZE = 128\n",
    "EPOCHS = 4\n",
    "\n",
    "\n",
    "def create_and_train_model(model_name: str, model_funct, funct_args, data, batch_size=BATCH_SIZE, epochs=EPOCHS):\n",
    "    model_checkpoint_callback = ModelCheckpoint(\n",
    "        filepath=f'./checkpoints/{model_name}',\n",
    "        save_weights_only=False,  # Save the whole model\n",
    "        monitor='val_accuracy',\n",
    "        mode='auto',\n",
    "        save_best_only=True)\n",
    "\n",
    "    log_dir = os.path.join(fp.log_dir, model_name)\n",
    "\n",
    "    if funct_args is not None:\n",
    "        my_model = model_funct(*funct_args)\n",
    "    else:\n",
    "        my_model = model_funct()\n",
    "    my_model.summary()\n",
    "\n",
    "    train_x, train_y, val_x, val_y = data\n",
    "    \n",
    "    my_model.fit(\n",
    "        train_x,\n",
    "        train_y,\n",
    "        epochs=epochs,\n",
    "        batch_size=batch_size,\n",
    "        validation_data=(val_x, val_y),\n",
    "        callbacks=[TensorBoard(log_dir), model_checkpoint_callback]\n",
    "    )"
   ]
  },
  {
   "cell_type": "code",
   "execution_count": 47,
   "metadata": {},
   "outputs": [
    {
     "name": "stdout",
     "output_type": "stream",
     "text": [
      "Loading data for params:  mycroft\n",
      "Percent of data positive: 19.02%\n",
      "train_x size:  1975.988296508789 MB\n",
      "686994\n",
      "\n",
      "Percent of data positive: 0.03%\n",
      "val_x size:  102.68038177490234 MB\n"
     ]
    }
   ],
   "source": [
    "mycroft_data = get_param_data('mycroft')"
   ]
  },
  {
   "cell_type": "code",
   "execution_count": 5,
   "metadata": {},
   "outputs": [
    {
     "name": "stdout",
     "output_type": "stream",
     "text": [
      "Loading data for params:  custom1\n",
      "Percent of data positive: 23.66%\n",
      "train_x size:  977.397705078125 MB\n",
      "552196\n",
      "\n",
      "Percent of data positive: 0.05%\n",
      "val_y size:  33.2232666015625 MB\n"
     ]
    }
   ],
   "source": [
    "custom1_data = get_param_data('custom1')"
   ]
  },
  {
   "cell_type": "code",
   "execution_count": 29,
   "metadata": {},
   "outputs": [
    {
     "name": "stdout",
     "output_type": "stream",
     "text": [
      "Loading data for params:  custom2\n",
      "Percent of data positive: 23.68%\n",
      "train_x size:  1587.3566131591797 MB\n",
      "551878\n",
      "\n",
      "Percent of data positive: 0.05%\n",
      "val_x size:  53.98780822753906 MB\n"
     ]
    }
   ],
   "source": [
    "custom2_data = get_param_data('custom2')"
   ]
  },
  {
   "cell_type": "code",
   "execution_count": 33,
   "metadata": {},
   "outputs": [
    {
     "name": "stdout",
     "output_type": "stream",
     "text": [
      "here\n",
      "here\n",
      "Model: \"cnn_model\"\n",
      "_________________________________________________________________\n",
      " Layer (type)                Output Shape              Param #   \n",
      "=================================================================\n",
      " normalization_7 (Normalizat  (None, 29, 13)           27        \n",
      " ion)                                                            \n",
      "                                                                 \n",
      " conv1d_14 (Conv1D)          (None, 27, 32)            1280      \n",
      "                                                                 \n",
      " conv1d_15 (Conv1D)          (None, 25, 64)            6208      \n",
      "                                                                 \n",
      " max_pooling1d_7 (MaxPooling  (None, 12, 64)           0         \n",
      " 1D)                                                             \n",
      "                                                                 \n",
      " dropout_14 (Dropout)        (None, 12, 64)            0         \n",
      "                                                                 \n",
      " flatten_7 (Flatten)         (None, 768)               0         \n",
      "                                                                 \n",
      " dense_14 (Dense)            (None, 128)               98432     \n",
      "                                                                 \n",
      " dropout_15 (Dropout)        (None, 128)               0         \n",
      "                                                                 \n",
      " dense_15 (Dense)            (None, 1)                 129       \n",
      "                                                                 \n",
      "=================================================================\n",
      "Total params: 106,076\n",
      "Trainable params: 106,049\n",
      "Non-trainable params: 27\n",
      "_________________________________________________________________\n",
      "(686994, 29, 13)\n",
      "Epoch 1/4\n",
      "5352/5368 [============================>.] - ETA: 0s - loss: 0.0080 - accuracy: 0.9971"
     ]
    },
    {
     "name": "stderr",
     "output_type": "stream",
     "text": [
      "WARNING:absl:Found untraced functions such as _jit_compiled_convolution_op, _jit_compiled_convolution_op while saving (showing 2 of 2). These functions will not be directly callable after loading.\n"
     ]
    },
    {
     "name": "stdout",
     "output_type": "stream",
     "text": [
      "INFO:tensorflow:Assets written to: ./checkpoints\\mycroft cnn\\assets\n"
     ]
    },
    {
     "name": "stderr",
     "output_type": "stream",
     "text": [
      "INFO:tensorflow:Assets written to: ./checkpoints\\mycroft cnn\\assets\n"
     ]
    },
    {
     "name": "stdout",
     "output_type": "stream",
     "text": [
      "5368/5368 [==============================] - 14s 3ms/step - loss: 0.0080 - accuracy: 0.9971 - val_loss: 3.6579e-04 - val_accuracy: 0.9999\n",
      "Epoch 2/4\n",
      "5368/5368 [==============================] - 14s 3ms/step - loss: 0.0012 - accuracy: 0.9996 - val_loss: 6.3861e-04 - val_accuracy: 1.0000\n",
      "Epoch 3/4\n",
      "5368/5368 [==============================] - 14s 3ms/step - loss: 0.0010 - accuracy: 0.9997 - val_loss: 5.9664e-04 - val_accuracy: 1.0000\n",
      "Epoch 4/4\n",
      "5368/5368 [==============================] - 14s 3ms/step - loss: 7.6171e-04 - accuracy: 0.9998 - val_loss: 9.4387e-04 - val_accuracy: 1.0000\n"
     ]
    }
   ],
   "source": [
    "create_and_train_model('mycroft cnn', neuralmodels.cnn_model, None, mycroft_data)"
   ]
  },
  {
   "cell_type": "code",
   "execution_count": 9,
   "metadata": {},
   "outputs": [
    {
     "name": "stdout",
     "output_type": "stream",
     "text": [
      "Model: \"cnn_model\"\n",
      "_________________________________________________________________\n",
      " Layer (type)                Output Shape              Param #   \n",
      "=================================================================\n",
      " normalization (Normalizatio  (None, 29, 8)            17        \n",
      " n)                                                              \n",
      "                                                                 \n",
      " conv1d (Conv1D)             (None, 27, 32)            800       \n",
      "                                                                 \n",
      " conv1d_1 (Conv1D)           (None, 25, 64)            6208      \n",
      "                                                                 \n",
      " max_pooling1d (MaxPooling1D  (None, 12, 64)           0         \n",
      " )                                                               \n",
      "                                                                 \n",
      " dropout (Dropout)           (None, 12, 64)            0         \n",
      "                                                                 \n",
      " flatten (Flatten)           (None, 768)               0         \n",
      "                                                                 \n",
      " dense (Dense)               (None, 128)               98432     \n",
      "                                                                 \n",
      " dropout_1 (Dropout)         (None, 128)               0         \n",
      "                                                                 \n",
      " dense_1 (Dense)             (None, 1)                 129       \n",
      "                                                                 \n",
      "=================================================================\n",
      "Total params: 105,586\n",
      "Trainable params: 105,569\n",
      "Non-trainable params: 17\n",
      "_________________________________________________________________\n",
      "Epoch 1/4\n",
      "4311/4315 [============================>.] - ETA: 0s - loss: 0.0108 - accuracy: 0.9963"
     ]
    },
    {
     "name": "stderr",
     "output_type": "stream",
     "text": [
      "WARNING:absl:Found untraced functions such as _jit_compiled_convolution_op, _jit_compiled_convolution_op while saving (showing 2 of 2). These functions will not be directly callable after loading.\n"
     ]
    },
    {
     "name": "stdout",
     "output_type": "stream",
     "text": [
      "INFO:tensorflow:Assets written to: ./checkpoints\\custom1 cnn\\assets\n"
     ]
    },
    {
     "name": "stderr",
     "output_type": "stream",
     "text": [
      "INFO:tensorflow:Assets written to: ./checkpoints\\custom1 cnn\\assets\n"
     ]
    },
    {
     "name": "stdout",
     "output_type": "stream",
     "text": [
      "4315/4315 [==============================] - 16s 3ms/step - loss: 0.0108 - accuracy: 0.9963 - val_loss: 0.0012 - val_accuracy: 0.9998\n",
      "Epoch 2/4\n",
      "4299/4315 [============================>.] - ETA: 0s - loss: 0.0020 - accuracy: 0.9994"
     ]
    },
    {
     "name": "stderr",
     "output_type": "stream",
     "text": [
      "WARNING:absl:Found untraced functions such as _jit_compiled_convolution_op, _jit_compiled_convolution_op while saving (showing 2 of 2). These functions will not be directly callable after loading.\n"
     ]
    },
    {
     "name": "stdout",
     "output_type": "stream",
     "text": [
      "INFO:tensorflow:Assets written to: ./checkpoints\\custom1 cnn\\assets\n"
     ]
    },
    {
     "name": "stderr",
     "output_type": "stream",
     "text": [
      "INFO:tensorflow:Assets written to: ./checkpoints\\custom1 cnn\\assets\n"
     ]
    },
    {
     "name": "stdout",
     "output_type": "stream",
     "text": [
      "4315/4315 [==============================] - 11s 3ms/step - loss: 0.0020 - accuracy: 0.9994 - val_loss: 7.9679e-04 - val_accuracy: 0.9997\n",
      "Epoch 3/4\n",
      "4315/4315 [==============================] - 11s 2ms/step - loss: 0.0013 - accuracy: 0.9996 - val_loss: 0.0034 - val_accuracy: 0.9995\n",
      "Epoch 4/4\n",
      "4299/4315 [============================>.] - ETA: 0s - loss: 0.0012 - accuracy: 0.9996"
     ]
    },
    {
     "name": "stderr",
     "output_type": "stream",
     "text": [
      "WARNING:absl:Found untraced functions such as _jit_compiled_convolution_op, _jit_compiled_convolution_op while saving (showing 2 of 2). These functions will not be directly callable after loading.\n"
     ]
    },
    {
     "name": "stdout",
     "output_type": "stream",
     "text": [
      "INFO:tensorflow:Assets written to: ./checkpoints\\custom1 cnn\\assets\n"
     ]
    },
    {
     "name": "stderr",
     "output_type": "stream",
     "text": [
      "INFO:tensorflow:Assets written to: ./checkpoints\\custom1 cnn\\assets\n"
     ]
    },
    {
     "name": "stdout",
     "output_type": "stream",
     "text": [
      "4315/4315 [==============================] - 11s 3ms/step - loss: 0.0012 - accuracy: 0.9996 - val_loss: 5.4580e-04 - val_accuracy: 0.9999\n"
     ]
    }
   ],
   "source": [
    "import parameters\n",
    "ap = parameters.parameters['custom1']\n",
    "\n",
    "create_and_train_model('custom1 cnn', neuralmodels.cnn_model, (ap,), custom1_data)"
   ]
  },
  {
   "cell_type": "code",
   "execution_count": 58,
   "metadata": {},
   "outputs": [
    {
     "name": "stdout",
     "output_type": "stream",
     "text": [
      "Model: \"smaller_cnn\"\n",
      "_________________________________________________________________\n",
      " Layer (type)                Output Shape              Param #   \n",
      "=================================================================\n",
      " normalization_13 (Normaliza  (None, 29, 13)           27        \n",
      " tion)                                                           \n",
      "                                                                 \n",
      " conv1d_41 (Conv1D)          (None, 27, 16)            640       \n",
      "                                                                 \n",
      " conv1d_42 (Conv1D)          (None, 25, 32)            1568      \n",
      "                                                                 \n",
      " max_pooling1d_18 (MaxPoolin  (None, 12, 32)           0         \n",
      " g1D)                                                            \n",
      "                                                                 \n",
      " dropout_52 (Dropout)        (None, 12, 32)            0         \n",
      "                                                                 \n",
      " flatten_24 (Flatten)        (None, 384)               0         \n",
      "                                                                 \n",
      " dense_58 (Dense)            (None, 128)               49280     \n",
      "                                                                 \n",
      " dropout_53 (Dropout)        (None, 128)               0         \n",
      "                                                                 \n",
      " dense_59 (Dense)            (None, 1)                 129       \n",
      "                                                                 \n",
      "=================================================================\n",
      "Total params: 51,644\n",
      "Trainable params: 51,617\n",
      "Non-trainable params: 27\n",
      "_________________________________________________________________\n",
      "Epoch 1/4\n",
      "5368/5368 [==============================] - ETA: 0s - loss: 0.0140 - accuracy: 0.9950"
     ]
    },
    {
     "name": "stderr",
     "output_type": "stream",
     "text": [
      "WARNING:absl:Found untraced functions such as _jit_compiled_convolution_op, _jit_compiled_convolution_op while saving (showing 2 of 2). These functions will not be directly callable after loading.\n"
     ]
    },
    {
     "name": "stdout",
     "output_type": "stream",
     "text": [
      "INFO:tensorflow:Assets written to: ./checkpoints\\smaller_cnn\\assets\n"
     ]
    },
    {
     "name": "stderr",
     "output_type": "stream",
     "text": [
      "INFO:tensorflow:Assets written to: ./checkpoints\\smaller_cnn\\assets\n"
     ]
    },
    {
     "name": "stdout",
     "output_type": "stream",
     "text": [
      "5368/5368 [==============================] - 10s 2ms/step - loss: 0.0140 - accuracy: 0.9950 - val_loss: 1.3705e-04 - val_accuracy: 1.0000\n",
      "Epoch 2/4\n",
      "5368/5368 [==============================] - 10s 2ms/step - loss: 0.0021 - accuracy: 0.9994 - val_loss: 1.0538e-04 - val_accuracy: 0.9999\n",
      "Epoch 3/4\n",
      "5341/5368 [============================>.] - ETA: 0s - loss: 0.0016 - accuracy: 0.9995"
     ]
    },
    {
     "name": "stderr",
     "output_type": "stream",
     "text": [
      "WARNING:absl:Found untraced functions such as _jit_compiled_convolution_op, _jit_compiled_convolution_op while saving (showing 2 of 2). These functions will not be directly callable after loading.\n"
     ]
    },
    {
     "name": "stdout",
     "output_type": "stream",
     "text": [
      "INFO:tensorflow:Assets written to: ./checkpoints\\smaller_cnn\\assets\n"
     ]
    },
    {
     "name": "stderr",
     "output_type": "stream",
     "text": [
      "INFO:tensorflow:Assets written to: ./checkpoints\\smaller_cnn\\assets\n"
     ]
    },
    {
     "name": "stdout",
     "output_type": "stream",
     "text": [
      "5368/5368 [==============================] - 10s 2ms/step - loss: 0.0016 - accuracy: 0.9995 - val_loss: 4.4472e-06 - val_accuracy: 1.0000\n",
      "Epoch 4/4\n",
      "5368/5368 [==============================] - 10s 2ms/step - loss: 0.0012 - accuracy: 0.9996 - val_loss: 4.3457e-05 - val_accuracy: 1.0000\n"
     ]
    }
   ],
   "source": [
    "from parameters import AudioParams\n",
    "\n",
    "def smaller_cnn(ap: AudioParams):\n",
    "    import tensorflow as tf\n",
    "    from tensorflow.keras import layers\n",
    "    from tensorflow.keras import models\n",
    "    # Instantiate the `tf.keras.layers.Normalization` layer.\n",
    "    norm_layer = layers.Normalization()\n",
    "    # Fit the state of the layer to the spectrograms\n",
    "    # with `Normalization.adapt`.\n",
    "    # norm_layer.adapt(data=train_spectrogram_ds.map(map_func=lambda spec, label: spec))\n",
    "\n",
    "    input_shape = (ap.n_features, ap.n_mfcc)\n",
    "\n",
    "    model = models.Sequential([\n",
    "        layers.Input(shape=input_shape),\n",
    "        # Downsample the input.\n",
    "        # layers.Resizing(32, 32),\n",
    "        # Normalize.\n",
    "        norm_layer,\n",
    "        layers.Conv1D(16, 3, activation='relu'),\n",
    "        layers.Conv1D(32, 3, activation='relu'),\n",
    "        layers.MaxPooling1D(),\n",
    "        layers.Dropout(0.25),\n",
    "        layers.Flatten(),\n",
    "        layers.Dense(128, activation='relu'),\n",
    "        layers.Dropout(0.5),\n",
    "        layers.Dense(1, activation='sigmoid'),\n",
    "    ], name='smaller_cnn')\n",
    "\n",
    "    model.compile(\n",
    "        optimizer=tf.keras.optimizers.Adam(),\n",
    "        loss=tf.keras.losses.binary_crossentropy,\n",
    "        metrics=['accuracy'],\n",
    "    )\n",
    "\n",
    "    return model\n",
    "\n",
    "def larger_cnn(ap: AudioParams):\n",
    "    import tensorflow as tf\n",
    "    from tensorflow.keras import layers\n",
    "    from tensorflow.keras import models\n",
    "    # Instantiate the `tf.keras.layers.Normalization` layer.\n",
    "    norm_layer = layers.Normalization()\n",
    "    # Fit the state of the layer to the spectrograms\n",
    "    # with `Normalization.adapt`.\n",
    "    # norm_layer.adapt(data=train_spectrogram_ds.map(map_func=lambda spec, label: spec))\n",
    "\n",
    "    input_shape = (ap.n_features, ap.n_mfcc)\n",
    "\n",
    "    model = models.Sequential([\n",
    "        layers.Input(shape=input_shape),\n",
    "        # Downsample the input.\n",
    "        # layers.Resizing(32, 32),\n",
    "        # Normalize.\n",
    "        norm_layer,\n",
    "        layers.Conv1D(32, 3, activation='relu'),\n",
    "        layers.Conv1D(64, 3, activation='relu'),\n",
    "        layers.MaxPooling1D(),\n",
    "        layers.Dropout(0.25),\n",
    "        layers.Flatten(),\n",
    "        layers.Dense(128, activation='relu'),\n",
    "        layers.Dropout(0.5),\n",
    "        layers.Dense(1, activation='sigmoid'),\n",
    "    ], name='larger_cnn')\n",
    "\n",
    "    model.compile(\n",
    "        optimizer=tf.keras.optimizers.Adam(),\n",
    "        loss=tf.keras.losses.binary_crossentropy,\n",
    "        metrics=['accuracy'],\n",
    "    )\n",
    "\n",
    "    return model\n",
    "\n",
    "import parameters\n",
    "ap = parameters.mycroftParams\n",
    "\n",
    "create_and_train_model('smaller_cnn', smaller_cnn, (ap,), mycroft_data)"
   ]
  },
  {
   "cell_type": "code",
   "execution_count": 9,
   "metadata": {},
   "outputs": [
    {
     "name": "stdout",
     "output_type": "stream",
     "text": [
      "Model: \"cnn_model\"\n",
      "_________________________________________________________________\n",
      " Layer (type)                Output Shape              Param #   \n",
      "=================================================================\n",
      " normalization (Normalizatio  (None, 29, 13)           27        \n",
      " n)                                                              \n",
      "                                                                 \n",
      " conv1d_1 (Conv1D)           (None, 27, 32)            1280      \n",
      "                                                                 \n",
      " conv1d_2 (Conv1D)           (None, 25, 64)            6208      \n",
      "                                                                 \n",
      " max_pooling1d (MaxPooling1D  (None, 12, 64)           0         \n",
      " )                                                               \n",
      "                                                                 \n",
      " dropout_2 (Dropout)         (None, 12, 64)            0         \n",
      "                                                                 \n",
      " flatten (Flatten)           (None, 768)               0         \n",
      "                                                                 \n",
      " dense_2 (Dense)             (None, 128)               98432     \n",
      "                                                                 \n",
      " dropout_3 (Dropout)         (None, 128)               0         \n",
      "                                                                 \n",
      " dense_3 (Dense)             (None, 1)                 129       \n",
      "                                                                 \n",
      "=================================================================\n",
      "Total params: 106,076\n",
      "Trainable params: 106,049\n",
      "Non-trainable params: 27\n",
      "_________________________________________________________________\n",
      "Epoch 1/4\n",
      "4303/4312 [============================>.] - ETA: 0s - loss: 0.0092 - accuracy: 0.9967"
     ]
    },
    {
     "name": "stderr",
     "output_type": "stream",
     "text": [
      "WARNING:absl:Found untraced functions such as _jit_compiled_convolution_op, _jit_compiled_convolution_op while saving (showing 2 of 2). These functions will not be directly callable after loading.\n"
     ]
    },
    {
     "name": "stdout",
     "output_type": "stream",
     "text": [
      "INFO:tensorflow:Assets written to: ./checkpoints\\custom2 cnn2\\assets\n"
     ]
    },
    {
     "name": "stderr",
     "output_type": "stream",
     "text": [
      "INFO:tensorflow:Assets written to: ./checkpoints\\custom2 cnn2\\assets\n"
     ]
    },
    {
     "name": "stdout",
     "output_type": "stream",
     "text": [
      "4312/4312 [==============================] - 17s 3ms/step - loss: 0.0092 - accuracy: 0.9967 - val_loss: 0.0022 - val_accuracy: 0.9997\n",
      "Epoch 2/4\n",
      "4298/4312 [============================>.] - ETA: 0s - loss: 0.0016 - accuracy: 0.9995"
     ]
    },
    {
     "name": "stderr",
     "output_type": "stream",
     "text": [
      "WARNING:absl:Found untraced functions such as _jit_compiled_convolution_op, _jit_compiled_convolution_op while saving (showing 2 of 2). These functions will not be directly callable after loading.\n"
     ]
    },
    {
     "name": "stdout",
     "output_type": "stream",
     "text": [
      "INFO:tensorflow:Assets written to: ./checkpoints\\custom2 cnn2\\assets\n"
     ]
    },
    {
     "name": "stderr",
     "output_type": "stream",
     "text": [
      "INFO:tensorflow:Assets written to: ./checkpoints\\custom2 cnn2\\assets\n"
     ]
    },
    {
     "name": "stdout",
     "output_type": "stream",
     "text": [
      "4312/4312 [==============================] - 11s 3ms/step - loss: 0.0016 - accuracy: 0.9995 - val_loss: 0.0011 - val_accuracy: 0.9998\n",
      "Epoch 3/4\n",
      "4312/4312 [==============================] - 11s 3ms/step - loss: 9.9854e-04 - accuracy: 0.9997 - val_loss: 0.0049 - val_accuracy: 0.9995\n",
      "Epoch 4/4\n",
      "4312/4312 [==============================] - 11s 3ms/step - loss: 8.0031e-04 - accuracy: 0.9998 - val_loss: 0.0031 - val_accuracy: 0.9998\n"
     ]
    }
   ],
   "source": [
    "import parameters\n",
    "ap = parameters.parameters['custom2']\n",
    "\n",
    "create_and_train_model('custom2 cnn2', neuralmodels.cnn_model, (ap,), custom2_data)"
   ]
  },
  {
   "cell_type": "code",
   "execution_count": 31,
   "metadata": {},
   "outputs": [
    {
     "name": "stdout",
     "output_type": "stream",
     "text": [
      "(551878, 29, 13)\n",
      "(551878,)\n",
      "[0. 1. 1. 1. 1. 1. 1. 0. 0. 0.]\n"
     ]
    }
   ],
   "source": [
    "train_x, train_y, val_x, val_y = custom2_data\n",
    "print(train_x.shape)\n",
    "print(train_y.shape)\n",
    "print(train_y[:10])"
   ]
  },
  {
   "cell_type": "code",
   "execution_count": 32,
   "metadata": {},
   "outputs": [],
   "source": [
    "import keras\n",
    "model = keras.models.load_model(r'.\\checkpoints\\no_norm_one_conv_no_pool_one_dropout_smaller_dense')"
   ]
  },
  {
   "cell_type": "code",
   "execution_count": 33,
   "metadata": {},
   "outputs": [
    {
     "name": "stdout",
     "output_type": "stream",
     "text": [
      "587/587 [==============================] - 1s 1ms/step - loss: 7.7879e-04 - accuracy: 0.9998\n"
     ]
    },
    {
     "data": {
      "text/plain": [
       "[0.0007787923677824438, 0.9998401999473572]"
      ]
     },
     "execution_count": 33,
     "metadata": {},
     "output_type": "execute_result"
    }
   ],
   "source": [
    "model.evaluate(val_x, val_y)"
   ]
  },
  {
   "cell_type": "code",
   "execution_count": 46,
   "metadata": {},
   "outputs": [
    {
     "name": "stdout",
     "output_type": "stream",
     "text": [
      "1/1 [==============================] - 0s 12ms/step\n",
      "[[2.0205894e-13]\n",
      " [9.9999487e-01]\n",
      " [9.9999917e-01]\n",
      " [9.9999058e-01]\n",
      " [1.0000000e+00]\n",
      " [1.0000000e+00]\n",
      " [9.9999142e-01]\n",
      " [6.2534396e-05]\n",
      " [5.7105815e-08]\n",
      " [2.4434177e-16]]\n",
      "[0. 1. 1. 1. 1. 1. 1. 0. 0. 0.]\n",
      "[0. 1. 1. 1. 1. 1. 1. 0. 0. 0.]\n"
     ]
    }
   ],
   "source": [
    "predictions = model.predict(train_x[:10])\n",
    "print(predictions)\n",
    "predictions = np.round(predictions)\n",
    "print(predictions.flatten())\n",
    "print(train_y[:10])"
   ]
  },
  {
   "cell_type": "code",
   "execution_count": 40,
   "metadata": {},
   "outputs": [
    {
     "name": "stdout",
     "output_type": "stream",
     "text": [
      "[0. 0. 0. 0. 0. 0. 0. 0. 0. 0.]\n"
     ]
    }
   ],
   "source": [
    "print(val_y[:10])"
   ]
  },
  {
   "cell_type": "code",
   "execution_count": 51,
   "metadata": {},
   "outputs": [
    {
     "name": "stdout",
     "output_type": "stream",
     "text": [
      "Model: \"no_norm_one_conv\"\n",
      "_________________________________________________________________\n",
      " Layer (type)                Output Shape              Param #   \n",
      "=================================================================\n",
      " conv1d_32 (Conv1D)          (None, 27, 32)            1280      \n",
      "                                                                 \n",
      " max_pooling1d_12 (MaxPoolin  (None, 13, 32)           0         \n",
      " g1D)                                                            \n",
      "                                                                 \n",
      " dropout_40 (Dropout)        (None, 13, 32)            0         \n",
      "                                                                 \n",
      " flatten_18 (Flatten)        (None, 416)               0         \n",
      "                                                                 \n",
      " dense_46 (Dense)            (None, 128)               53376     \n",
      "                                                                 \n",
      " dropout_41 (Dropout)        (None, 128)               0         \n",
      "                                                                 \n",
      " dense_47 (Dense)            (None, 1)                 129       \n",
      "                                                                 \n",
      "=================================================================\n",
      "Total params: 54,785\n",
      "Trainable params: 54,785\n",
      "Non-trainable params: 0\n",
      "_________________________________________________________________\n",
      "Epoch 1/10\n",
      "4311/4312 [============================>.] - ETA: 0s - loss: 0.0157 - accuracy: 0.9945"
     ]
    },
    {
     "name": "stderr",
     "output_type": "stream",
     "text": [
      "WARNING:absl:Found untraced functions such as _jit_compiled_convolution_op while saving (showing 1 of 1). These functions will not be directly callable after loading.\n"
     ]
    },
    {
     "name": "stdout",
     "output_type": "stream",
     "text": [
      "INFO:tensorflow:Assets written to: ./checkpoints\\no_norm_one_conv\\assets\n"
     ]
    },
    {
     "name": "stderr",
     "output_type": "stream",
     "text": [
      "INFO:tensorflow:Assets written to: ./checkpoints\\no_norm_one_conv\\assets\n"
     ]
    },
    {
     "name": "stdout",
     "output_type": "stream",
     "text": [
      "4312/4312 [==============================] - 7s 2ms/step - loss: 0.0157 - accuracy: 0.9945 - val_loss: 0.0025 - val_accuracy: 0.9996\n",
      "Epoch 2/10\n",
      "4305/4312 [============================>.] - ETA: 0s - loss: 0.0026 - accuracy: 0.9992"
     ]
    },
    {
     "name": "stderr",
     "output_type": "stream",
     "text": [
      "WARNING:absl:Found untraced functions such as _jit_compiled_convolution_op while saving (showing 1 of 1). These functions will not be directly callable after loading.\n"
     ]
    },
    {
     "name": "stdout",
     "output_type": "stream",
     "text": [
      "INFO:tensorflow:Assets written to: ./checkpoints\\no_norm_one_conv\\assets\n"
     ]
    },
    {
     "name": "stderr",
     "output_type": "stream",
     "text": [
      "INFO:tensorflow:Assets written to: ./checkpoints\\no_norm_one_conv\\assets\n"
     ]
    },
    {
     "name": "stdout",
     "output_type": "stream",
     "text": [
      "4312/4312 [==============================] - 7s 2ms/step - loss: 0.0026 - accuracy: 0.9992 - val_loss: 0.0013 - val_accuracy: 0.9998\n",
      "Epoch 3/10\n",
      "4311/4312 [============================>.] - ETA: 0s - loss: 0.0020 - accuracy: 0.9994"
     ]
    },
    {
     "name": "stderr",
     "output_type": "stream",
     "text": [
      "WARNING:absl:Found untraced functions such as _jit_compiled_convolution_op while saving (showing 1 of 1). These functions will not be directly callable after loading.\n"
     ]
    },
    {
     "name": "stdout",
     "output_type": "stream",
     "text": [
      "INFO:tensorflow:Assets written to: ./checkpoints\\no_norm_one_conv\\assets\n"
     ]
    },
    {
     "name": "stderr",
     "output_type": "stream",
     "text": [
      "INFO:tensorflow:Assets written to: ./checkpoints\\no_norm_one_conv\\assets\n"
     ]
    },
    {
     "name": "stdout",
     "output_type": "stream",
     "text": [
      "4312/4312 [==============================] - 7s 2ms/step - loss: 0.0020 - accuracy: 0.9994 - val_loss: 0.0020 - val_accuracy: 0.9998\n",
      "Epoch 4/10\n",
      "4290/4312 [============================>.] - ETA: 0s - loss: 0.0015 - accuracy: 0.9995"
     ]
    },
    {
     "name": "stderr",
     "output_type": "stream",
     "text": [
      "WARNING:absl:Found untraced functions such as _jit_compiled_convolution_op while saving (showing 1 of 1). These functions will not be directly callable after loading.\n"
     ]
    },
    {
     "name": "stdout",
     "output_type": "stream",
     "text": [
      "INFO:tensorflow:Assets written to: ./checkpoints\\no_norm_one_conv\\assets\n"
     ]
    },
    {
     "name": "stderr",
     "output_type": "stream",
     "text": [
      "INFO:tensorflow:Assets written to: ./checkpoints\\no_norm_one_conv\\assets\n"
     ]
    },
    {
     "name": "stdout",
     "output_type": "stream",
     "text": [
      "4312/4312 [==============================] - 7s 2ms/step - loss: 0.0016 - accuracy: 0.9995 - val_loss: 0.0015 - val_accuracy: 0.9998\n",
      "Epoch 5/10\n",
      "4300/4312 [============================>.] - ETA: 0s - loss: 0.0012 - accuracy: 0.9996"
     ]
    },
    {
     "name": "stderr",
     "output_type": "stream",
     "text": [
      "WARNING:absl:Found untraced functions such as _jit_compiled_convolution_op while saving (showing 1 of 1). These functions will not be directly callable after loading.\n"
     ]
    },
    {
     "name": "stdout",
     "output_type": "stream",
     "text": [
      "INFO:tensorflow:Assets written to: ./checkpoints\\no_norm_one_conv\\assets\n"
     ]
    },
    {
     "name": "stderr",
     "output_type": "stream",
     "text": [
      "INFO:tensorflow:Assets written to: ./checkpoints\\no_norm_one_conv\\assets\n"
     ]
    },
    {
     "name": "stdout",
     "output_type": "stream",
     "text": [
      "4312/4312 [==============================] - 7s 2ms/step - loss: 0.0012 - accuracy: 0.9996 - val_loss: 0.0025 - val_accuracy: 0.9999\n",
      "Epoch 6/10\n",
      "4311/4312 [============================>.] - ETA: 0s - loss: 0.0011 - accuracy: 0.9996"
     ]
    },
    {
     "name": "stderr",
     "output_type": "stream",
     "text": [
      "WARNING:absl:Found untraced functions such as _jit_compiled_convolution_op while saving (showing 1 of 1). These functions will not be directly callable after loading.\n"
     ]
    },
    {
     "name": "stdout",
     "output_type": "stream",
     "text": [
      "INFO:tensorflow:Assets written to: ./checkpoints\\no_norm_one_conv\\assets\n"
     ]
    },
    {
     "name": "stderr",
     "output_type": "stream",
     "text": [
      "INFO:tensorflow:Assets written to: ./checkpoints\\no_norm_one_conv\\assets\n"
     ]
    },
    {
     "name": "stdout",
     "output_type": "stream",
     "text": [
      "4312/4312 [==============================] - 7s 2ms/step - loss: 0.0011 - accuracy: 0.9996 - val_loss: 0.0026 - val_accuracy: 0.9999\n",
      "Epoch 7/10\n",
      "4297/4312 [============================>.] - ETA: 0s - loss: 0.0010 - accuracy: 0.9997"
     ]
    },
    {
     "name": "stderr",
     "output_type": "stream",
     "text": [
      "WARNING:absl:Found untraced functions such as _jit_compiled_convolution_op while saving (showing 1 of 1). These functions will not be directly callable after loading.\n"
     ]
    },
    {
     "name": "stdout",
     "output_type": "stream",
     "text": [
      "INFO:tensorflow:Assets written to: ./checkpoints\\no_norm_one_conv\\assets\n"
     ]
    },
    {
     "name": "stderr",
     "output_type": "stream",
     "text": [
      "INFO:tensorflow:Assets written to: ./checkpoints\\no_norm_one_conv\\assets\n"
     ]
    },
    {
     "name": "stdout",
     "output_type": "stream",
     "text": [
      "4312/4312 [==============================] - 7s 2ms/step - loss: 0.0010 - accuracy: 0.9997 - val_loss: 0.0031 - val_accuracy: 0.9998\n",
      "Epoch 8/10\n",
      "4312/4312 [==============================] - ETA: 0s - loss: 9.3447e-04 - accuracy: 0.9997"
     ]
    },
    {
     "name": "stderr",
     "output_type": "stream",
     "text": [
      "WARNING:absl:Found untraced functions such as _jit_compiled_convolution_op while saving (showing 1 of 1). These functions will not be directly callable after loading.\n"
     ]
    },
    {
     "name": "stdout",
     "output_type": "stream",
     "text": [
      "INFO:tensorflow:Assets written to: ./checkpoints\\no_norm_one_conv\\assets\n"
     ]
    },
    {
     "name": "stderr",
     "output_type": "stream",
     "text": [
      "INFO:tensorflow:Assets written to: ./checkpoints\\no_norm_one_conv\\assets\n"
     ]
    },
    {
     "name": "stdout",
     "output_type": "stream",
     "text": [
      "4312/4312 [==============================] - 7s 2ms/step - loss: 9.3447e-04 - accuracy: 0.9997 - val_loss: 0.0028 - val_accuracy: 0.9998\n",
      "Epoch 9/10\n",
      "4284/4312 [============================>.] - ETA: 0s - loss: 0.0013 - accuracy: 0.9997"
     ]
    },
    {
     "name": "stderr",
     "output_type": "stream",
     "text": [
      "WARNING:absl:Found untraced functions such as _jit_compiled_convolution_op while saving (showing 1 of 1). These functions will not be directly callable after loading.\n"
     ]
    },
    {
     "name": "stdout",
     "output_type": "stream",
     "text": [
      "INFO:tensorflow:Assets written to: ./checkpoints\\no_norm_one_conv\\assets\n"
     ]
    },
    {
     "name": "stderr",
     "output_type": "stream",
     "text": [
      "INFO:tensorflow:Assets written to: ./checkpoints\\no_norm_one_conv\\assets\n"
     ]
    },
    {
     "name": "stdout",
     "output_type": "stream",
     "text": [
      "4312/4312 [==============================] - 7s 2ms/step - loss: 0.0013 - accuracy: 0.9997 - val_loss: 0.0025 - val_accuracy: 0.9998\n",
      "Epoch 10/10\n",
      "4308/4312 [============================>.] - ETA: 0s - loss: 0.0010 - accuracy: 0.9997"
     ]
    },
    {
     "name": "stderr",
     "output_type": "stream",
     "text": [
      "WARNING:absl:Found untraced functions such as _jit_compiled_convolution_op while saving (showing 1 of 1). These functions will not be directly callable after loading.\n"
     ]
    },
    {
     "name": "stdout",
     "output_type": "stream",
     "text": [
      "INFO:tensorflow:Assets written to: ./checkpoints\\no_norm_one_conv\\assets\n"
     ]
    },
    {
     "name": "stderr",
     "output_type": "stream",
     "text": [
      "INFO:tensorflow:Assets written to: ./checkpoints\\no_norm_one_conv\\assets\n"
     ]
    },
    {
     "name": "stdout",
     "output_type": "stream",
     "text": [
      "4312/4312 [==============================] - 7s 2ms/step - loss: 0.0010 - accuracy: 0.9997 - val_loss: 0.0031 - val_accuracy: 0.9998\n"
     ]
    }
   ],
   "source": [
    "import parameters\n",
    "from parameters import AudioParams\n",
    "import tensorflow as tf\n",
    "from tensorflow.keras import layers\n",
    "from tensorflow.keras import models\n",
    "\n",
    "\n",
    "def full_model(ap: AudioParams):\n",
    "    norm_layer = layers.Normalization()\n",
    "    input_shape = (ap.n_features, ap.n_mfcc)\n",
    "    model = models.Sequential([\n",
    "        layers.Input(shape=input_shape),\n",
    "        # Normalize.\n",
    "        norm_layer,\n",
    "        layers.Conv1D(32, 3, activation='relu'),\n",
    "        layers.Conv1D(64, 3, activation='relu'),\n",
    "        layers.MaxPooling1D(),\n",
    "        layers.Dropout(0.25),\n",
    "        layers.Flatten(),\n",
    "        layers.Dense(128, activation='relu'),\n",
    "        layers.Dropout(0.5),\n",
    "        layers.Dense(1, activation='sigmoid'),\n",
    "    ], name='full_model')\n",
    "    model.compile(\n",
    "        optimizer=tf.keras.optimizers.Adam(),\n",
    "        loss=tf.keras.losses.binary_crossentropy,\n",
    "        metrics=['accuracy'],\n",
    "    )\n",
    "    return model\n",
    "\n",
    "\n",
    "def no_normalization(ap: AudioParams):\n",
    "    input_shape = (ap.n_features, ap.n_mfcc)\n",
    "    model = models.Sequential([\n",
    "        layers.Input(shape=input_shape),\n",
    "        layers.Conv1D(32, 3, activation='relu'),\n",
    "        layers.Conv1D(64, 3, activation='relu'),\n",
    "        layers.MaxPooling1D(),\n",
    "        layers.Dropout(0.25),\n",
    "        layers.Flatten(),\n",
    "        layers.Dense(128, activation='relu'),\n",
    "        layers.Dropout(0.5),\n",
    "        layers.Dense(1, activation='sigmoid'),\n",
    "    ], name='no_normalization')\n",
    "    model.compile(\n",
    "        optimizer=tf.keras.optimizers.Adam(),\n",
    "        loss=tf.keras.losses.binary_crossentropy,\n",
    "        metrics=['accuracy'],\n",
    "    )\n",
    "    return model\n",
    "\n",
    "\n",
    "def no_norm_one_conv(ap: AudioParams):\n",
    "    input_shape = (ap.n_features, ap.n_mfcc)\n",
    "    model = models.Sequential([\n",
    "        layers.Input(shape=input_shape),\n",
    "        layers.Conv1D(32, 3, activation='relu'),\n",
    "        # layers.Conv1D(64, 3, activation='relu'),\n",
    "        layers.MaxPooling1D(),\n",
    "        layers.Dropout(0.25),\n",
    "        layers.Flatten(),\n",
    "        layers.Dense(128, activation='relu'),\n",
    "        layers.Dropout(0.5),\n",
    "        layers.Dense(1, activation='sigmoid'),\n",
    "    ], name='no_norm_one_conv')\n",
    "    model.compile(\n",
    "        optimizer=tf.keras.optimizers.Adam(),\n",
    "        loss=tf.keras.losses.binary_crossentropy,\n",
    "        metrics=['accuracy'],\n",
    "    )\n",
    "    return model\n",
    "\n",
    "\n",
    "def no_norm_one_conv_no_pool(ap: AudioParams):\n",
    "    input_shape = (ap.n_features, ap.n_mfcc)\n",
    "    model = models.Sequential([\n",
    "        layers.Input(shape=input_shape),\n",
    "        layers.Conv1D(32, 3, activation='relu'),\n",
    "        # layers.Conv1D(64, 3, activation='relu'),\n",
    "        # layers.MaxPooling1D(),\n",
    "        layers.Dropout(0.25),\n",
    "        layers.Flatten(),\n",
    "        layers.Dense(128, activation='relu'),\n",
    "        layers.Dropout(0.5),\n",
    "        layers.Dense(1, activation='sigmoid'),\n",
    "    ], name='no_norm_one_conv_no_pool')\n",
    "    model.compile(\n",
    "        optimizer=tf.keras.optimizers.Adam(),\n",
    "        loss=tf.keras.losses.binary_crossentropy,\n",
    "        metrics=['accuracy'],\n",
    "    )\n",
    "    return model\n",
    "\n",
    "\n",
    "def no_norm_one_conv_no_pool_one_dropout(ap: AudioParams):\n",
    "    input_shape = (ap.n_features, ap.n_mfcc)\n",
    "    model = models.Sequential([\n",
    "        layers.Input(shape=input_shape),\n",
    "        layers.Conv1D(32, 3, activation='relu'),\n",
    "        # layers.Conv1D(64, 3, activation='relu'),\n",
    "        # layers.MaxPooling1D(),\n",
    "        layers.Dropout(0.25),\n",
    "        layers.Flatten(),\n",
    "        layers.Dense(128, activation='relu'),\n",
    "        # layers.Dropout(0.5),\n",
    "        layers.Dense(1, activation='sigmoid'),\n",
    "    ], name='no_norm_one_conv_no_pool_one_dropout')\n",
    "    model.compile(\n",
    "        optimizer=tf.keras.optimizers.Adam(),\n",
    "        loss=tf.keras.losses.binary_crossentropy,\n",
    "        metrics=['accuracy'],\n",
    "    )\n",
    "    return model\n",
    "\n",
    "\n",
    "def no_norm_one_conv_no_pool_one_dropout_smaller_conv(ap: AudioParams):\n",
    "    input_shape = (ap.n_features, ap.n_mfcc)\n",
    "    model = models.Sequential([\n",
    "        layers.Input(shape=input_shape),\n",
    "        layers.Conv1D(16, 3, activation='relu'),\n",
    "        # layers.Conv1D(64, 3, activation='relu'),\n",
    "        # layers.MaxPooling1D(),\n",
    "        layers.Dropout(0.25),\n",
    "        layers.Flatten(),\n",
    "        layers.Dense(128, activation='relu'),\n",
    "        # layers.Dropout(0.5),\n",
    "        layers.Dense(1, activation='sigmoid'),\n",
    "    ], name='no_norm_one_conv_no_pool_one_dropout_smaller_conv')\n",
    "    model.compile(\n",
    "        optimizer=tf.keras.optimizers.Adam(),\n",
    "        loss=tf.keras.losses.binary_crossentropy,\n",
    "        metrics=['accuracy'],\n",
    "    )\n",
    "    return model\n",
    "\n",
    "\n",
    "def no_norm_one_conv_no_pool_one_dropout_smaller_dense(ap: AudioParams):\n",
    "    \"\"\"\n",
    "    After 10 epochs, this model had the lowest training loss\n",
    "    \"\"\"\n",
    "    input_shape = (ap.n_features, ap.n_mfcc)\n",
    "    model = models.Sequential([\n",
    "        layers.Input(shape=input_shape),\n",
    "        layers.Conv1D(32, 3, activation='relu'),\n",
    "        # layers.Conv1D(64, 3, activation='relu'),\n",
    "        # layers.MaxPooling1D(),\n",
    "        layers.Dropout(0.25),\n",
    "        layers.Flatten(),\n",
    "        layers.Dense(64, activation='relu'),\n",
    "        # layers.Dropout(0.5),\n",
    "        layers.Dense(1, activation='sigmoid'),\n",
    "    ], name='no_norm_one_conv_no_pool_one_dropout_smaller_dense')\n",
    "    model.compile(\n",
    "        optimizer=tf.keras.optimizers.Adam(),\n",
    "        loss=tf.keras.losses.binary_crossentropy,\n",
    "        metrics=['accuracy'],\n",
    "    )\n",
    "    return model\n",
    "\n",
    "\n",
    "def no_norm_one_conv_no_pool_one_dropout_smaller_dense_and_conv(ap: AudioParams):\n",
    "    input_shape = (ap.n_features, ap.n_mfcc)\n",
    "    model = models.Sequential([\n",
    "        layers.Input(shape=input_shape),\n",
    "        layers.Conv1D(16, 3, activation='relu'),\n",
    "        # layers.Conv1D(64, 3, activation='relu'),\n",
    "        # layers.MaxPooling1D(),\n",
    "        layers.Dropout(0.25),\n",
    "        layers.Flatten(),\n",
    "        layers.Dense(64, activation='relu'),\n",
    "        # layers.Dropout(0.5),\n",
    "        layers.Dense(1, activation='sigmoid'),\n",
    "    ], name='no_norm_one_conv_no_pool_one_dropout_smaller_dense_and_conv')\n",
    "    model.compile(\n",
    "        optimizer=tf.keras.optimizers.Adam(),\n",
    "        loss=tf.keras.losses.binary_crossentropy,\n",
    "        metrics=['accuracy'],\n",
    "    )\n",
    "    return model\n",
    "\n",
    "models_to_test = {\n",
    "    # \"full_model\": full_model,\n",
    "    # \"no_normalization\": no_normalization,\n",
    "    \"no_norm_one_conv\": no_norm_one_conv,\n",
    "    # \"no_norm_one_conv_no_pool\": no_norm_one_conv_no_pool,\n",
    "    # \"no_norm_one_conv_no_pool_one_dropout\": no_norm_one_conv_no_pool_one_dropout,\n",
    "    # \"no_norm_one_conv_no_pool_one_dropout_smaller_conv\": no_norm_one_conv_no_pool_one_dropout_smaller_conv,\n",
    "    # \"no_norm_one_conv_no_pool_one_dropout_smaller_dense\": no_norm_one_conv_no_pool_one_dropout_smaller_dense,\n",
    "    # \"no_norm_one_conv_no_pool_one_dropout_smaller_dense_and_conv\": no_norm_one_conv_no_pool_one_dropout_smaller_dense_and_conv,\n",
    "}\n",
    "\n",
    "ap = parameters.mycroftParams\n",
    "\n",
    "for model_name, model_funct in models_to_test.items():\n",
    "    create_and_train_model(model_name, model_funct, (ap,), custom2_data, epochs=10)"
   ]
  },
  {
   "cell_type": "code",
   "execution_count": 4,
   "metadata": {},
   "outputs": [
    {
     "name": "stdout",
     "output_type": "stream",
     "text": [
      "\n",
      "\n",
      "GRU units: 4\n",
      "WARNING:tensorflow:Layer gru will not use cuDNN kernels since it doesn't meet the criteria. It will use a generic GPU kernel as fallback when running on GPU.\n",
      "Model: \"model2\"\n",
      "_________________________________________________________________\n",
      " Layer (type)                Output Shape              Param #   \n",
      "=================================================================\n",
      " gru (GRU)                   (None, 4)                 228       \n",
      "                                                                 \n",
      " dense (Dense)               (None, 1)                 5         \n",
      "                                                                 \n",
      "=================================================================\n",
      "Total params: 233\n",
      "Trainable params: 233\n",
      "Non-trainable params: 0\n",
      "_________________________________________________________________\n",
      "Epoch 1/4\n",
      "5367/5368 [============================>.] - ETA: 0s - loss: 0.1426 - accuracy: 0.9405INFO:tensorflow:Assets written to: ./checkpoints\\model_GRU_4\\assets\n",
      "5368/5368 [==============================] - 164s 30ms/step - loss: 0.1426 - accuracy: 0.9405 - val_loss: 0.0316 - val_accuracy: 0.9924\n",
      "Epoch 2/4\n",
      "5367/5368 [============================>.] - ETA: 0s - loss: 0.0383 - accuracy: 0.9865INFO:tensorflow:Assets written to: ./checkpoints\\model_GRU_4\\assets\n",
      "5368/5368 [==============================] - 159s 30ms/step - loss: 0.0383 - accuracy: 0.9865 - val_loss: 0.0168 - val_accuracy: 0.9954\n",
      "Epoch 3/4\n",
      "5367/5368 [============================>.] - ETA: 0s - loss: 0.0303 - accuracy: 0.9893INFO:tensorflow:Assets written to: ./checkpoints\\model_GRU_4\\assets\n",
      "5368/5368 [==============================] - 159s 30ms/step - loss: 0.0303 - accuracy: 0.9893 - val_loss: 0.0113 - val_accuracy: 0.9964\n",
      "Epoch 4/4\n",
      "5367/5368 [============================>.] - ETA: 0s - loss: 0.0270 - accuracy: 0.9905INFO:tensorflow:Assets written to: ./checkpoints\\model_GRU_4\\assets\n",
      "5368/5368 [==============================] - 165s 31ms/step - loss: 0.0271 - accuracy: 0.9905 - val_loss: 0.0112 - val_accuracy: 0.9964\n",
      "\n",
      "\n",
      "GRU units: 8\n",
      "WARNING:tensorflow:Layer gru_1 will not use cuDNN kernels since it doesn't meet the criteria. It will use a generic GPU kernel as fallback when running on GPU.\n",
      "Model: \"model2\"\n",
      "_________________________________________________________________\n",
      " Layer (type)                Output Shape              Param #   \n",
      "=================================================================\n",
      " gru_1 (GRU)                 (None, 8)                 552       \n",
      "                                                                 \n",
      " dense_1 (Dense)             (None, 1)                 9         \n",
      "                                                                 \n",
      "=================================================================\n",
      "Total params: 561\n",
      "Trainable params: 561\n",
      "Non-trainable params: 0\n",
      "_________________________________________________________________\n",
      "Epoch 1/4\n",
      "5367/5368 [============================>.] - ETA: 0s - loss: 0.0563 - accuracy: 0.9776INFO:tensorflow:Assets written to: ./checkpoints\\model_GRU_8\\assets\n",
      "5368/5368 [==============================] - 159s 30ms/step - loss: 0.0563 - accuracy: 0.9776 - val_loss: 0.0081 - val_accuracy: 0.9970\n",
      "Epoch 2/4\n",
      "5367/5368 [============================>.] - ETA: 0s - loss: 0.0108 - accuracy: 0.9961INFO:tensorflow:Assets written to: ./checkpoints\\model_GRU_8\\assets\n",
      "5368/5368 [==============================] - 159s 30ms/step - loss: 0.0108 - accuracy: 0.9961 - val_loss: 0.0048 - val_accuracy: 0.9987\n",
      "Epoch 3/4\n",
      "5367/5368 [============================>.] - ETA: 0s - loss: 0.0080 - accuracy: 0.9971INFO:tensorflow:Assets written to: ./checkpoints\\model_GRU_8\\assets\n",
      "5368/5368 [==============================] - 158s 30ms/step - loss: 0.0080 - accuracy: 0.9971 - val_loss: 0.0034 - val_accuracy: 0.9992\n",
      "Epoch 4/4\n",
      "5367/5368 [============================>.] - ETA: 0s - loss: 0.0068 - accuracy: 0.9976INFO:tensorflow:Assets written to: ./checkpoints\\model_GRU_8\\assets\n",
      "5368/5368 [==============================] - 159s 30ms/step - loss: 0.0068 - accuracy: 0.9976 - val_loss: 0.0026 - val_accuracy: 0.9992\n",
      "\n",
      "\n",
      "GRU units: 10\n",
      "WARNING:tensorflow:Layer gru_2 will not use cuDNN kernels since it doesn't meet the criteria. It will use a generic GPU kernel as fallback when running on GPU.\n",
      "Model: \"model2\"\n",
      "_________________________________________________________________\n",
      " Layer (type)                Output Shape              Param #   \n",
      "=================================================================\n",
      " gru_2 (GRU)                 (None, 10)                750       \n",
      "                                                                 \n",
      " dense_2 (Dense)             (None, 1)                 11        \n",
      "                                                                 \n",
      "=================================================================\n",
      "Total params: 761\n",
      "Trainable params: 761\n",
      "Non-trainable params: 0\n",
      "_________________________________________________________________\n",
      "Epoch 1/4\n",
      "5367/5368 [============================>.] - ETA: 0s - loss: 0.0470 - accuracy: 0.9810INFO:tensorflow:Assets written to: ./checkpoints\\model_GRU_10\\assets\n",
      "5368/5368 [==============================] - 159s 29ms/step - loss: 0.0470 - accuracy: 0.9810 - val_loss: 0.0177 - val_accuracy: 0.9942\n",
      "Epoch 2/4\n",
      "5367/5368 [============================>.] - ETA: 0s - loss: 0.0103 - accuracy: 0.9964INFO:tensorflow:Assets written to: ./checkpoints\\model_GRU_10\\assets\n",
      "5368/5368 [==============================] - 158s 29ms/step - loss: 0.0103 - accuracy: 0.9964 - val_loss: 0.0040 - val_accuracy: 0.9988\n",
      "Epoch 3/4\n",
      "5367/5368 [============================>.] - ETA: 0s - loss: 0.0070 - accuracy: 0.9976INFO:tensorflow:Assets written to: ./checkpoints\\model_GRU_10\\assets\n",
      "5368/5368 [==============================] - 161s 30ms/step - loss: 0.0070 - accuracy: 0.9976 - val_loss: 0.0017 - val_accuracy: 0.9997\n",
      "Epoch 4/4\n",
      "5367/5368 [============================>.] - ETA: 0s - loss: 0.0061 - accuracy: 0.9979INFO:tensorflow:Assets written to: ./checkpoints\\model_GRU_10\\assets\n",
      "5368/5368 [==============================] - 159s 30ms/step - loss: 0.0061 - accuracy: 0.9979 - val_loss: 0.0013 - val_accuracy: 0.9997\n",
      "\n",
      "\n",
      "GRU units: 16\n",
      "WARNING:tensorflow:Layer gru_3 will not use cuDNN kernels since it doesn't meet the criteria. It will use a generic GPU kernel as fallback when running on GPU.\n",
      "Model: \"model2\"\n",
      "_________________________________________________________________\n",
      " Layer (type)                Output Shape              Param #   \n",
      "=================================================================\n",
      " gru_3 (GRU)                 (None, 16)                1488      \n",
      "                                                                 \n",
      " dense_3 (Dense)             (None, 1)                 17        \n",
      "                                                                 \n",
      "=================================================================\n",
      "Total params: 1,505\n",
      "Trainable params: 1,505\n",
      "Non-trainable params: 0\n",
      "_________________________________________________________________\n",
      "Epoch 1/4\n",
      "5367/5368 [============================>.] - ETA: 0s - loss: 0.0270 - accuracy: 0.9896INFO:tensorflow:Assets written to: ./checkpoints\\model_GRU_16\\assets\n",
      "5368/5368 [==============================] - 158s 29ms/step - loss: 0.0270 - accuracy: 0.9896 - val_loss: 0.0016 - val_accuracy: 0.9996\n",
      "Epoch 2/4\n",
      "5368/5368 [==============================] - 157s 29ms/step - loss: 0.0058 - accuracy: 0.9980 - val_loss: 0.0018 - val_accuracy: 0.9994\n",
      "Epoch 3/4\n",
      "5367/5368 [============================>.] - ETA: 0s - loss: 0.0039 - accuracy: 0.9987INFO:tensorflow:Assets written to: ./checkpoints\\model_GRU_16\\assets\n",
      "5368/5368 [==============================] - 158s 29ms/step - loss: 0.0039 - accuracy: 0.9987 - val_loss: 7.2779e-04 - val_accuracy: 0.9998\n",
      "Epoch 4/4\n",
      "5368/5368 [==============================] - 157s 29ms/step - loss: 0.0030 - accuracy: 0.9990 - val_loss: 0.0018 - val_accuracy: 0.9995\n",
      "\n",
      "\n",
      "GRU units: 20\n",
      "WARNING:tensorflow:Layer gru_4 will not use cuDNN kernels since it doesn't meet the criteria. It will use a generic GPU kernel as fallback when running on GPU.\n",
      "Model: \"model2\"\n",
      "_________________________________________________________________\n",
      " Layer (type)                Output Shape              Param #   \n",
      "=================================================================\n",
      " gru_4 (GRU)                 (None, 20)                2100      \n",
      "                                                                 \n",
      " dense_4 (Dense)             (None, 1)                 21        \n",
      "                                                                 \n",
      "=================================================================\n",
      "Total params: 2,121\n",
      "Trainable params: 2,121\n",
      "Non-trainable params: 0\n",
      "_________________________________________________________________\n",
      "Epoch 1/4\n",
      "5367/5368 [============================>.] - ETA: 0s - loss: 0.0306 - accuracy: 0.9875INFO:tensorflow:Assets written to: ./checkpoints\\model_GRU_20\\assets\n",
      "5368/5368 [==============================] - 162s 30ms/step - loss: 0.0306 - accuracy: 0.9875 - val_loss: 7.3585e-04 - val_accuracy: 0.9998\n",
      "Epoch 2/4\n",
      "5367/5368 [============================>.] - ETA: 0s - loss: 0.0047 - accuracy: 0.9984INFO:tensorflow:Assets written to: ./checkpoints\\model_GRU_20\\assets\n",
      "5368/5368 [==============================] - 161s 30ms/step - loss: 0.0047 - accuracy: 0.9984 - val_loss: 2.1585e-04 - val_accuracy: 0.9999\n",
      "Epoch 3/4\n",
      "5368/5368 [==============================] - 160s 30ms/step - loss: 0.0033 - accuracy: 0.9989 - val_loss: 2.4004e-04 - val_accuracy: 0.9999\n",
      "Epoch 4/4\n",
      "5368/5368 [==============================] - 160s 30ms/step - loss: 0.0027 - accuracy: 0.9991 - val_loss: 3.5541e-04 - val_accuracy: 0.9999\n",
      "\n",
      "\n",
      "GRU units: 24\n",
      "WARNING:tensorflow:Layer gru_5 will not use cuDNN kernels since it doesn't meet the criteria. It will use a generic GPU kernel as fallback when running on GPU.\n",
      "Model: \"model2\"\n",
      "_________________________________________________________________\n",
      " Layer (type)                Output Shape              Param #   \n",
      "=================================================================\n",
      " gru_5 (GRU)                 (None, 24)                2808      \n",
      "                                                                 \n",
      " dense_5 (Dense)             (None, 1)                 25        \n",
      "                                                                 \n",
      "=================================================================\n",
      "Total params: 2,833\n",
      "Trainable params: 2,833\n",
      "Non-trainable params: 0\n",
      "_________________________________________________________________\n",
      "Epoch 1/4\n",
      "5367/5368 [============================>.] - ETA: 0s - loss: 0.0190 - accuracy: 0.9928INFO:tensorflow:Assets written to: ./checkpoints\\model_GRU_24\\assets\n",
      "5368/5368 [==============================] - 158s 29ms/step - loss: 0.0190 - accuracy: 0.9928 - val_loss: 0.0019 - val_accuracy: 0.9995\n",
      "Epoch 2/4\n",
      "5367/5368 [============================>.] - ETA: 0s - loss: 0.0036 - accuracy: 0.9988INFO:tensorflow:Assets written to: ./checkpoints\\model_GRU_24\\assets\n",
      "5368/5368 [==============================] - 158s 29ms/step - loss: 0.0036 - accuracy: 0.9988 - val_loss: 6.0588e-04 - val_accuracy: 0.9998\n",
      "Epoch 3/4\n",
      "5367/5368 [============================>.] - ETA: 0s - loss: 0.0024 - accuracy: 0.9992INFO:tensorflow:Assets written to: ./checkpoints\\model_GRU_24\\assets\n",
      "5368/5368 [==============================] - 158s 29ms/step - loss: 0.0024 - accuracy: 0.9992 - val_loss: 6.0034e-04 - val_accuracy: 0.9998\n",
      "Epoch 4/4\n",
      "5368/5368 [==============================] - 157s 29ms/step - loss: 0.0022 - accuracy: 0.9993 - val_loss: 0.0024 - val_accuracy: 0.9990\n"
     ]
    }
   ],
   "source": [
    "\"\"\"\n",
    "Test different sizes of GRU units\n",
    "\"\"\"\n",
    "from create_models import variable_GRU_units_model\n",
    "\n",
    "\n",
    "units = [4, 8, 10, 16, 20, 24]\n",
    "for unit in units:\n",
    "    print(f'\\n\\nGRU units: {unit}')\n",
    "    create_and_train_model(f'model_GRU_{unit}', variable_GRU_units_model, (unit,))\n",
    "\n",
    "\"\"\"\n",
    "After testing, seems like GRU units of around 16 or 20 is best\n",
    "\"\"\""
   ]
  },
  {
   "cell_type": "code",
   "execution_count": 10,
   "metadata": {},
   "outputs": [
    {
     "name": "stdout",
     "output_type": "stream",
     "text": [
      "\n",
      "\n",
      "Intermediate layers: 5\n",
      "WARNING:tensorflow:Layer gru_8 will not use cuDNN kernels since it doesn't meet the criteria. It will use a generic GPU kernel as fallback when running on GPU.\n"
     ]
    },
    {
     "name": "stdout",
     "output_type": "stream",
     "text": [
      "Model: \"sequential\"\n",
      "_________________________________________________________________\n",
      " Layer (type)                Output Shape              Param #   \n",
      "=================================================================\n",
      " gru_8 (GRU)                 (None, 16)                1488      \n",
      "                                                                 \n",
      " dense_10 (Dense)            (None, 5)                 85        \n",
      "                                                                 \n",
      " dense_11 (Dense)            (None, 1)                 6         \n",
      "                                                                 \n",
      "=================================================================\n",
      "Total params: 1,579\n",
      "Trainable params: 1,579\n",
      "Non-trainable params: 0\n",
      "_________________________________________________________________\n",
      "Epoch 1/6\n",
      "5367/5368 [============================>.] - ETA: 0s - loss: 0.0368 - accuracy: 0.9850INFO:tensorflow:Assets written to: ./checkpoints\\model_GRU_16_layers_5\\assets\n",
      "5368/5368 [==============================] - 167s 31ms/step - loss: 0.0368 - accuracy: 0.9850 - val_loss: 0.0012 - val_accuracy: 0.9997\n",
      "Epoch 2/6\n",
      "5368/5368 [==============================] - 177s 33ms/step - loss: 0.0060 - accuracy: 0.9980 - val_loss: 0.0081 - val_accuracy: 0.9981\n",
      "Epoch 3/6\n",
      "5368/5368 [==============================] - 176s 33ms/step - loss: 0.0040 - accuracy: 0.9986 - val_loss: 0.0016 - val_accuracy: 0.9997\n",
      "Epoch 4/6\n",
      "5368/5368 [==============================] - ETA: 0s - loss: 0.0033 - accuracy: 0.9989INFO:tensorflow:Assets written to: ./checkpoints\\model_GRU_16_layers_5\\assets\n",
      "5368/5368 [==============================] - 175s 33ms/step - loss: 0.0033 - accuracy: 0.9989 - val_loss: 8.9482e-04 - val_accuracy: 0.9997\n",
      "Epoch 5/6\n",
      "5367/5368 [============================>.] - ETA: 0s - loss: 0.0028 - accuracy: 0.9990INFO:tensorflow:Assets written to: ./checkpoints\\model_GRU_16_layers_5\\assets\n",
      "5368/5368 [==============================] - 180s 33ms/step - loss: 0.0028 - accuracy: 0.9990 - val_loss: 1.4124e-04 - val_accuracy: 1.0000\n",
      "Epoch 6/6\n",
      "5368/5368 [==============================] - 177s 33ms/step - loss: 0.0027 - accuracy: 0.9991 - val_loss: 0.0015 - val_accuracy: 0.9997\n",
      "\n",
      "\n",
      "Intermediate layers: 8\n",
      "WARNING:tensorflow:Layer gru_9 will not use cuDNN kernels since it doesn't meet the criteria. It will use a generic GPU kernel as fallback when running on GPU.\n",
      "Model: \"sequential_1\"\n",
      "_________________________________________________________________\n",
      " Layer (type)                Output Shape              Param #   \n",
      "=================================================================\n",
      " gru_9 (GRU)                 (None, 16)                1488      \n",
      "                                                                 \n",
      " dense_12 (Dense)            (None, 8)                 136       \n",
      "                                                                 \n",
      " dense_13 (Dense)            (None, 1)                 9         \n",
      "                                                                 \n",
      "=================================================================\n",
      "Total params: 1,633\n",
      "Trainable params: 1,633\n",
      "Non-trainable params: 0\n",
      "_________________________________________________________________\n",
      "Epoch 1/6\n",
      "5367/5368 [============================>.] - ETA: 0s - loss: 0.0265 - accuracy: 0.9895INFO:tensorflow:Assets written to: ./checkpoints\\model_GRU_16_layers_8\\assets\n",
      "5368/5368 [==============================] - 177s 33ms/step - loss: 0.0265 - accuracy: 0.9895 - val_loss: 0.0060 - val_accuracy: 0.9980\n",
      "Epoch 2/6\n",
      "5367/5368 [============================>.] - ETA: 0s - loss: 0.0051 - accuracy: 0.9983INFO:tensorflow:Assets written to: ./checkpoints\\model_GRU_16_layers_8\\assets\n",
      "5368/5368 [==============================] - 179s 33ms/step - loss: 0.0051 - accuracy: 0.9983 - val_loss: 3.7206e-04 - val_accuracy: 0.9999\n",
      "Epoch 3/6\n",
      "5367/5368 [============================>.] - ETA: 0s - loss: 0.0036 - accuracy: 0.9988INFO:tensorflow:Assets written to: ./checkpoints\\model_GRU_16_layers_8\\assets\n",
      "5368/5368 [==============================] - 178s 33ms/step - loss: 0.0036 - accuracy: 0.9988 - val_loss: 1.3878e-04 - val_accuracy: 0.9999\n",
      "Epoch 4/6\n",
      "5368/5368 [==============================] - 174s 32ms/step - loss: 0.0032 - accuracy: 0.9989 - val_loss: 9.8857e-04 - val_accuracy: 0.9996\n",
      "Epoch 5/6\n",
      "5368/5368 [==============================] - 169s 31ms/step - loss: 0.0026 - accuracy: 0.9991 - val_loss: 0.0014 - val_accuracy: 0.9995\n",
      "Epoch 6/6\n",
      "5368/5368 [==============================] - 163s 30ms/step - loss: 0.0024 - accuracy: 0.9992 - val_loss: 0.0014 - val_accuracy: 0.9995\n",
      "\n",
      "\n",
      "Intermediate layers: 10\n",
      "WARNING:tensorflow:Layer gru_10 will not use cuDNN kernels since it doesn't meet the criteria. It will use a generic GPU kernel as fallback when running on GPU.\n",
      "Model: \"sequential_2\"\n",
      "_________________________________________________________________\n",
      " Layer (type)                Output Shape              Param #   \n",
      "=================================================================\n",
      " gru_10 (GRU)                (None, 16)                1488      \n",
      "                                                                 \n",
      " dense_14 (Dense)            (None, 10)                170       \n",
      "                                                                 \n",
      " dense_15 (Dense)            (None, 1)                 11        \n",
      "                                                                 \n",
      "=================================================================\n",
      "Total params: 1,669\n",
      "Trainable params: 1,669\n",
      "Non-trainable params: 0\n",
      "_________________________________________________________________\n",
      "Epoch 1/6\n",
      "5367/5368 [============================>.] - ETA: 0s - loss: 0.0326 - accuracy: 0.9868INFO:tensorflow:Assets written to: ./checkpoints\\model_GRU_16_layers_10\\assets\n",
      "5368/5368 [==============================] - 163s 30ms/step - loss: 0.0326 - accuracy: 0.9868 - val_loss: 0.0038 - val_accuracy: 0.9987\n",
      "Epoch 2/6\n",
      "5367/5368 [============================>.] - ETA: 0s - loss: 0.0059 - accuracy: 0.9979INFO:tensorflow:Assets written to: ./checkpoints\\model_GRU_16_layers_10\\assets\n",
      "5368/5368 [==============================] - 159s 30ms/step - loss: 0.0059 - accuracy: 0.9979 - val_loss: 0.0034 - val_accuracy: 0.9989\n",
      "Epoch 3/6\n",
      "5368/5368 [==============================] - 158s 29ms/step - loss: 0.0040 - accuracy: 0.9986 - val_loss: 0.0090 - val_accuracy: 0.9969\n",
      "Epoch 4/6\n",
      "5368/5368 [==============================] - 158s 29ms/step - loss: 0.0032 - accuracy: 0.9989 - val_loss: 0.0037 - val_accuracy: 0.9989\n",
      "Epoch 5/6\n",
      "5367/5368 [============================>.] - ETA: 0s - loss: 0.0028 - accuracy: 0.9991INFO:tensorflow:Assets written to: ./checkpoints\\model_GRU_16_layers_10\\assets\n",
      "5368/5368 [==============================] - 159s 30ms/step - loss: 0.0028 - accuracy: 0.9991 - val_loss: 0.0019 - val_accuracy: 0.9994\n",
      "Epoch 6/6\n",
      "5367/5368 [============================>.] - ETA: 0s - loss: 0.0024 - accuracy: 0.9992INFO:tensorflow:Assets written to: ./checkpoints\\model_GRU_16_layers_10\\assets\n",
      "5368/5368 [==============================] - 159s 30ms/step - loss: 0.0024 - accuracy: 0.9992 - val_loss: 8.6938e-04 - val_accuracy: 0.9997\n"
     ]
    }
   ],
   "source": [
    "\"\"\"\n",
    "Test different intermediate layer sizes\n",
    "\"\"\"\n",
    "import create_models\n",
    "import importlib\n",
    "importlib.reload(create_models)\n",
    "\n",
    "layers = [5, 8, 10]\n",
    "for layer in layers:\n",
    "    print(f'\\n\\nIntermediate layers: {layer}')\n",
    "    create_and_train_model(f'model_GRU_16_layers_{layer}', create_models.variable_intermediate_layer_model, (layer,), epochs=6)"
   ]
  },
  {
   "cell_type": "code",
   "execution_count": 15,
   "metadata": {},
   "outputs": [
    {
     "name": "stdout",
     "output_type": "stream",
     "text": [
      "WARNING:tensorflow:Layer gru_4 will not use cuDNN kernels since it doesn't meet the criteria. It will use a generic GPU kernel as fallback when running on GPU.\n"
     ]
    },
    {
     "name": "stdout",
     "output_type": "stream",
     "text": [
      "Model: \"model_GRU_20\"\n",
      "_________________________________________________________________\n",
      " Layer (type)                Output Shape              Param #   \n",
      "=================================================================\n",
      " gru_4 (GRU)                 (None, 20)                2100      \n",
      "                                                                 \n",
      " dense_4 (Dense)             (None, 1)                 21        \n",
      "                                                                 \n",
      "=================================================================\n",
      "Total params: 2,121\n",
      "Trainable params: 2,121\n",
      "Non-trainable params: 0\n",
      "_________________________________________________________________\n"
     ]
    }
   ],
   "source": [
    "\"\"\"\n",
    "Load and continue training the 20 GRU model\n",
    "\"\"\"\n",
    "\n",
    "# Load model from log/model_GRU_20\n",
    "from keras.models import load_model\n",
    "\n",
    "model_GRU_20 = load_model('./checkpoints/model_GRU_20') \n",
    "model_GRU_20._name = 'model_GRU_20'  # Rename model\n",
    "model_GRU_20.summary()"
   ]
  },
  {
   "cell_type": "code",
   "execution_count": 16,
   "metadata": {},
   "outputs": [
    {
     "name": "stdout",
     "output_type": "stream",
     "text": [
      "Model: \"model_GRU_20\"\n",
      "_________________________________________________________________\n",
      " Layer (type)                Output Shape              Param #   \n",
      "=================================================================\n",
      " gru_4 (GRU)                 (None, 20)                2100      \n",
      "                                                                 \n",
      " dense_4 (Dense)             (None, 1)                 21        \n",
      "                                                                 \n",
      "=================================================================\n",
      "Total params: 2,121\n",
      "Trainable params: 2,121\n",
      "Non-trainable params: 0\n",
      "_________________________________________________________________\n",
      "Epoch 1/6\n",
      "5367/5368 [============================>.] - ETA: 0s - loss: 0.0034 - accuracy: 0.9989INFO:tensorflow:Assets written to: ./checkpoints\\model_GRU_20\\assets\n",
      "5368/5368 [==============================] - 167s 31ms/step - loss: 0.0034 - accuracy: 0.9989 - val_loss: 0.0017 - val_accuracy: 0.9995\n",
      "Epoch 2/6\n",
      "5367/5368 [============================>.] - ETA: 0s - loss: 0.0027 - accuracy: 0.9991INFO:tensorflow:Assets written to: ./checkpoints\\model_GRU_20\\assets\n",
      "5368/5368 [==============================] - 167s 31ms/step - loss: 0.0027 - accuracy: 0.9991 - val_loss: 5.5850e-04 - val_accuracy: 0.9998\n",
      "Epoch 3/6\n",
      "5367/5368 [============================>.] - ETA: 0s - loss: 0.0021 - accuracy: 0.9993INFO:tensorflow:Assets written to: ./checkpoints\\model_GRU_20\\assets\n",
      "5368/5368 [==============================] - 166s 31ms/step - loss: 0.0021 - accuracy: 0.9993 - val_loss: 3.6128e-04 - val_accuracy: 0.9999\n",
      "Epoch 4/6\n",
      "5368/5368 [==============================] - 165s 31ms/step - loss: 0.0021 - accuracy: 0.9993 - val_loss: 5.9628e-04 - val_accuracy: 0.9999\n",
      "Epoch 5/6\n",
      "5368/5368 [==============================] - 170s 32ms/step - loss: 0.0021 - accuracy: 0.9993 - val_loss: 3.8069e-04 - val_accuracy: 0.9999\n",
      "Epoch 6/6\n",
      "5367/5368 [============================>.] - ETA: 0s - loss: 0.0017 - accuracy: 0.9994INFO:tensorflow:Assets written to: ./checkpoints\\model_GRU_20\\assets\n",
      "5368/5368 [==============================] - 183s 34ms/step - loss: 0.0017 - accuracy: 0.9994 - val_loss: 3.4206e-04 - val_accuracy: 0.9999\n"
     ]
    }
   ],
   "source": [
    "# Continue training\n",
    "def continue_training(nn_model, epochs=4, batch_size=BATCH_SIZE):\n",
    "    model_name = str(nn_model.name)\n",
    "    model_checkpoint_callback = ModelCheckpoint(\n",
    "        filepath=f'./checkpoints/{model_name}',\n",
    "        save_weights_only=False,  # Save the whole model\n",
    "        monitor='val_loss',\n",
    "        mode='min',\n",
    "        save_best_only=True)\n",
    "\n",
    "    log_dir = os.path.join(fp.log_dir, model_name)\n",
    "\n",
    "    nn_model.summary()\n",
    "    nn_model.fit(\n",
    "        train_x,\n",
    "        train_y,\n",
    "        epochs=epochs,\n",
    "        batch_size=batch_size,\n",
    "        validation_data=(val_x, val_y),\n",
    "        callbacks=[TensorBoard(log_dir), model_checkpoint_callback]\n",
    "    )\n",
    "\n",
    "continue_training(model_GRU_20, epochs=6)"
   ]
  }
 ],
 "metadata": {
  "kernelspec": {
   "display_name": "cse517",
   "language": "python",
   "name": "python3"
  },
  "language_info": {
   "codemirror_mode": {
    "name": "ipython",
    "version": 3
   },
   "file_extension": ".py",
   "mimetype": "text/x-python",
   "name": "python",
   "nbconvert_exporter": "python",
   "pygments_lexer": "ipython3",
   "version": "3.9.16"
  }
 },
 "nbformat": 4,
 "nbformat_minor": 2
}
